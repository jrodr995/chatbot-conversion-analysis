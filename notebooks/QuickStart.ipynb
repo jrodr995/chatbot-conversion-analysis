{
 "cells": [
  {
   "cell_type": "code",
   "execution_count": null,
   "id": "dffc0592",
   "metadata": {},
   "outputs": [],
   "source": [
    "\n",
    "# QuickStart: Chatbot Conversion Analysis (Synthetic Data)\n",
    "%pip install -q -r ../requirements.txt\n"
   ]
  },
  {
   "cell_type": "code",
   "execution_count": null,
   "id": "59dd956e",
   "metadata": {},
   "outputs": [],
   "source": [
    "\n",
    "import os\n",
    "os.environ['SNOWFLAKE_ENABLED'] = '0'  # force synthetic data\n"
   ]
  },
  {
   "cell_type": "code",
   "execution_count": null,
   "id": "7e7346d5",
   "metadata": {},
   "outputs": [],
   "source": [
    "\n",
    "from common.data_loader import load_dataframe\n",
    "import pandas as pd\n",
    "import numpy as np\n",
    "from scipy.stats import pointbiserialr\n",
    "\n",
    "df = load_dataframe().replace([np.inf, -np.inf], np.nan).dropna()\n",
    "df['has_appt'] = df['HAS_APPT_SCHEDULED'].astype(int)\n",
    "df['has_rfi'] = df['HAS_RFI_SUBMISSION'].astype(int)\n",
    "df.head()\n"
   ]
  },
  {
   "cell_type": "code",
   "execution_count": null,
   "id": "0d27c9e1",
   "metadata": {},
   "outputs": [],
   "source": [
    "\n",
    "from sklearn.preprocessing import StandardScaler\n",
    "from sklearn.linear_model import LogisticRegression\n",
    "from sklearn.model_selection import train_test_split\n",
    "from sklearn.metrics import classification_report\n",
    "\n",
    "features = [\n",
    "    'TOTAL_USER_MESSAGES','AVG_USER_WORDS_PER_MSG','MAX_USER_WORDS_IN_MSG',\n",
    "    'USER_ENGAGEMENT_DURATION','MESSAGE_COUNT',\n",
    "    'TOTAL_AGENT_MESSAGES','AVG_AGENT_WORDS_PER_MSG','MAX_AGENT_WORDS_IN_MSG'\n",
    "]\n",
    "\n",
    "X = df[features]\n",
    "scaler = StandardScaler()\n",
    "Xs = scaler.fit_transform(X)\n",
    "\n",
    "Xa_tr, Xa_te, ya_tr, ya_te = train_test_split(Xs, df['has_appt'], test_size=0.2, random_state=42)\n",
    "mdl = LogisticRegression(max_iter=1000, class_weight='balanced')\n",
    "mdl.fit(Xa_tr, ya_tr)\n",
    "print(classification_report(ya_te, mdl.predict(Xa_te)))\n"
   ]
  },
  {
   "cell_type": "code",
   "execution_count": null,
   "id": "3c287fdd",
   "metadata": {},
   "outputs": [],
   "source": [
    "\n",
    "from scipy.stats import chi2_contingency\n",
    "exp = df[df.get('EXPLICIT_APPT_REQUEST', 0) == 1]\n",
    "ct = pd.crosstab(exp['SEQUENCE_PATTERN'], exp['HAS_APPT_SCHEDULED'])\n",
    "chi2, p, dof, expct = chi2_contingency(ct)\n",
    "ct, p\n"
   ]
  },
  {
   "cell_type": "code",
   "execution_count": null,
   "id": "d293dfa8",
   "metadata": {},
   "outputs": [],
   "source": [
    "\n",
    "from IPython.display import Image, display\n",
    "\n",
    "# Display pre-generated figures\n",
    "for img in [\n",
    "    '../figures/feature_importance_appt_vs_rfi.png',\n",
    "    '../figures/distributions_grid.png',\n",
    "    '../figures/pattern_rates_and_volume.png'\n",
    "]:\n",
    "    display(Image(filename=img))\n"
   ]
  }
 ],
 "metadata": {},
 "nbformat": 4,
 "nbformat_minor": 5
}
